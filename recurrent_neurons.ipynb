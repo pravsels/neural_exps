{
  "nbformat": 4,
  "nbformat_minor": 0,
  "metadata": {
    "colab": {
      "provenance": []
    },
    "kernelspec": {
      "name": "python3",
      "display_name": "Python 3"
    },
    "language_info": {
      "name": "python"
    }
  },
  "cells": [
    {
      "cell_type": "markdown",
      "source": [
        "Neurons from a layer are usually connected to neurons in the subsequent layer. What if we modify this so that the neurons also have\n",
        "- self-connections\n",
        "- connections latererally to every other neuron in its own layer ?"
      ],
      "metadata": {
        "id": "WiVIckkIlA6Y"
      }
    },
    {
      "cell_type": "code",
      "execution_count": 1,
      "metadata": {
        "id": "brf5aogRkDTw"
      },
      "outputs": [],
      "source": [
        "import torch\n",
        "import torch.nn as nn\n",
        "import torch.optim as optim\n",
        "from sklearn.datasets import load_iris\n",
        "from sklearn.model_selection import train_test_split\n",
        "from sklearn.preprocessing import StandardScaler\n",
        "from torch.utils.data import DataLoader, TensorDataset"
      ]
    },
    {
      "cell_type": "code",
      "source": [
        "# Load Iris data\n",
        "iris = load_iris()\n",
        "X = iris.data\n",
        "y = iris.target\n",
        "\n",
        "# Standardize features\n",
        "scaler = StandardScaler()\n",
        "X_scaled = scaler.fit_transform(X)\n",
        "\n",
        "# Split data into training and testing sets\n",
        "X_train, X_test, y_train, y_test = train_test_split(X_scaled, y, test_size=0.2, random_state=42)\n",
        "\n",
        "# Convert arrays to PyTorch tensors\n",
        "X_train = torch.FloatTensor(X_train)\n",
        "X_test = torch.FloatTensor(X_test)\n",
        "y_train = torch.LongTensor(y_train)\n",
        "y_test = torch.LongTensor(y_test)\n",
        "\n",
        "# Create datasets for DataLoader\n",
        "train_dataset = TensorDataset(X_train, y_train)\n",
        "test_dataset = TensorDataset(X_test, y_test)\n",
        "\n",
        "# Create DataLoaders\n",
        "train_loader = DataLoader(dataset=train_dataset, batch_size=8, shuffle=True)\n",
        "test_loader = DataLoader(dataset=test_dataset, batch_size=8, shuffle=False)"
      ],
      "metadata": {
        "id": "UdKpCSRvkKmM"
      },
      "execution_count": 2,
      "outputs": []
    },
    {
      "cell_type": "code",
      "source": [
        "class IrisNet(nn.Module):\n",
        "    def __init__(self):\n",
        "        super(IrisNet, self).__init__()\n",
        "        # Neurons' connections and biases\n",
        "        self.neuron_connections_1 = nn.Parameter(torch.randn(4, 10))  # Connections from input to hidden neurons\n",
        "        self.neuron_biases_1 = nn.Parameter(torch.zeros(10))           # Biases of hidden neurons\n",
        "\n",
        "        self.neuron_connections_2 = nn.Parameter(torch.randn(10, 3))   # Connections from hidden to output neurons\n",
        "        self.neuron_biases_2 = nn.Parameter(torch.zeros(3))            # Biases of output neurons\n",
        "\n",
        "    def forward(self, x):\n",
        "        # Forward pass through hidden neurons\n",
        "        x = torch.mm(x, self.neuron_connections_1) + self.neuron_biases_1\n",
        "        x = torch.relu(x)  # Activation function for hidden neurons\n",
        "\n",
        "        # Forward pass through output neurons\n",
        "        x = torch.mm(x, self.neuron_connections_2) + self.neuron_biases_2\n",
        "        return x"
      ],
      "metadata": {
        "id": "Bhe8shdKkR-_"
      },
      "execution_count": 109,
      "outputs": []
    },
    {
      "cell_type": "code",
      "source": [
        "model = IrisNet()\n",
        "criterion = nn.CrossEntropyLoss()\n",
        "optimizer = optim.Adam(model.parameters(), lr=0.01)\n",
        "\n",
        "epochs = 15\n",
        "\n",
        "for epoch in range(epochs):\n",
        "    for inputs, labels in train_loader:\n",
        "        # Forward pass\n",
        "        outputs = model(inputs)\n",
        "        loss = criterion(outputs, labels)\n",
        "\n",
        "        # Backward pass and optimization\n",
        "        optimizer.zero_grad()\n",
        "        loss.backward()\n",
        "        optimizer.step()\n",
        "\n",
        "    # Print loss every 10 epochs\n",
        "    if (epoch+1) % 5 == 0:\n",
        "        print(f'Epoch {epoch+1}/{epochs}, Loss: {loss.item():.4f}')"
      ],
      "metadata": {
        "colab": {
          "base_uri": "https://localhost:8080/"
        },
        "id": "dKwaJvj1kX0z",
        "outputId": "c1a9d761-3b0e-4506-9016-061d4bd567bc"
      },
      "execution_count": 110,
      "outputs": [
        {
          "output_type": "stream",
          "name": "stdout",
          "text": [
            "Epoch 5/15, Loss: 0.1768\n",
            "Epoch 10/15, Loss: 0.1990\n",
            "Epoch 15/15, Loss: 0.1507\n"
          ]
        }
      ]
    },
    {
      "cell_type": "code",
      "source": [
        "model.eval()\n",
        "with torch.no_grad():\n",
        "    correct = 0\n",
        "    total = 0\n",
        "    for inputs, labels in test_loader:\n",
        "        outputs = model(inputs)\n",
        "        _, predicted = torch.max(outputs.data, 1)\n",
        "        total += labels.size(0)\n",
        "        correct += (predicted == labels).sum().item()\n",
        "\n",
        "print(f'Accuracy of the network on the test set: {100 * correct / total:.2f}%')"
      ],
      "metadata": {
        "colab": {
          "base_uri": "https://localhost:8080/"
        },
        "id": "y0p54qXwkiZ7",
        "outputId": "99ade905-b26b-416a-cb5c-c2e5da0f45cb"
      },
      "execution_count": 111,
      "outputs": [
        {
          "output_type": "stream",
          "name": "stdout",
          "text": [
            "Accuracy of the network on the test set: 96.67%\n"
          ]
        }
      ]
    },
    {
      "cell_type": "code",
      "source": [
        "model = None"
      ],
      "metadata": {
        "id": "iJtLpETqkYTi"
      },
      "execution_count": 112,
      "outputs": []
    },
    {
      "cell_type": "code",
      "source": [
        "class IrisNetModified(nn.Module):\n",
        "    def __init__(self):\n",
        "        super(IrisNetModified, self).__init__()\n",
        "        self.input_to_hidden = nn.Parameter(torch.randn(4, 10))\n",
        "        self.hidden_biases = nn.Parameter(torch.zeros(10))\n",
        "        # Lateral connections within the hidden layer\n",
        "        self.hidden_to_hidden = nn.Parameter(torch.randn(10, 10))  # Full matrix for intra-layer connections\n",
        "\n",
        "        self.hidden_to_output = nn.Parameter(torch.randn(10, 3))\n",
        "        self.output_biases = nn.Parameter(torch.zeros(3))\n",
        "        # Lateral connections within the output layer\n",
        "        self.output_to_output = nn.Parameter(torch.randn(3, 3))  # Full matrix for intra-layer connections\n",
        "\n",
        "    def forward(self, x):\n",
        "        # Input to hidden layer processing\n",
        "        x = torch.mm(x, self.input_to_hidden) + self.hidden_biases\n",
        "        # x = torch.relu(x)\n",
        "\n",
        "        # Applying lateral connections within the hidden layer\n",
        "        hidden_lateral = torch.mm(x, self.hidden_to_hidden)\n",
        "        x = torch.relu(x + hidden_lateral)  # Combine initial activation with lateral effects\n",
        "\n",
        "        # Hidden to output layer processing\n",
        "        x = torch.mm(x, self.hidden_to_output) + self.output_biases\n",
        "        # Applying lateral connections within the output layer\n",
        "        output_lateral = torch.mm(x, self.output_to_output)\n",
        "        x = x + output_lateral  # Combine output with lateral effects\n",
        "\n",
        "        return x"
      ],
      "metadata": {
        "id": "a6h33wMumU9L"
      },
      "execution_count": 113,
      "outputs": []
    },
    {
      "cell_type": "code",
      "source": [
        "model_modified = IrisNetModified()\n",
        "criterion = nn.CrossEntropyLoss()\n",
        "optimizer = optim.Adam(model_modified.parameters(), lr=0.01)\n",
        "\n",
        "epochs = 15\n",
        "\n",
        "for epoch in range(epochs):\n",
        "    for inputs, labels in train_loader:\n",
        "        # Forward pass\n",
        "        outputs = model_modified(inputs)\n",
        "        loss = criterion(outputs, labels)\n",
        "\n",
        "        # Backward pass and optimization\n",
        "        optimizer.zero_grad()\n",
        "        loss.backward()\n",
        "        optimizer.step()\n",
        "\n",
        "    # Print loss every 10 epochs\n",
        "    if (epoch+1) % 5 == 0:\n",
        "        print(f'Epoch {epoch+1}/{epochs}, Loss: {loss.item():.4f}')"
      ],
      "metadata": {
        "colab": {
          "base_uri": "https://localhost:8080/"
        },
        "id": "HeKFq3tgmlbg",
        "outputId": "67c14438-48c1-4480-f419-17f39b6a3135"
      },
      "execution_count": 114,
      "outputs": [
        {
          "output_type": "stream",
          "name": "stdout",
          "text": [
            "Epoch 5/15, Loss: 0.3672\n",
            "Epoch 10/15, Loss: 0.1416\n",
            "Epoch 15/15, Loss: 0.0553\n"
          ]
        }
      ]
    },
    {
      "cell_type": "code",
      "source": [
        "model_modified.eval()\n",
        "\n",
        "with torch.no_grad():\n",
        "    correct = 0\n",
        "    total = 0\n",
        "    for inputs, labels in test_loader:\n",
        "        outputs = model_modified(inputs)\n",
        "        _, predicted = torch.max(outputs.data, 1)\n",
        "        total += labels.size(0)\n",
        "        correct += (predicted == labels).sum().item()\n",
        "\n",
        "print(f'Accuracy of the network on the test set: {100 * correct / total:.2f}%')"
      ],
      "metadata": {
        "colab": {
          "base_uri": "https://localhost:8080/"
        },
        "id": "_1C1byLVmleI",
        "outputId": "31cec25e-b5f9-4e06-e533-0e8fe2bf8c2d"
      },
      "execution_count": 115,
      "outputs": [
        {
          "output_type": "stream",
          "name": "stdout",
          "text": [
            "Accuracy of the network on the test set: 100.00%\n"
          ]
        }
      ]
    },
    {
      "cell_type": "code",
      "source": [],
      "metadata": {
        "id": "MvxR4u4nmtO5"
      },
      "execution_count": null,
      "outputs": []
    }
  ]
}